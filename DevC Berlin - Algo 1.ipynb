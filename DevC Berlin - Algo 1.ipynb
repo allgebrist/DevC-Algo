{
 "cells": [
  {
   "cell_type": "markdown",
   "metadata": {},
   "source": [
    "# Some Practice on Big O Notation\n",
    "\n",
    "---"
   ]
  },
  {
   "cell_type": "markdown",
   "metadata": {},
   "source": [
    "**Algorithm 1.** `two_sum()` is a function that takes an list `nums` of $n$ numbers and a `target` value as input, and checks if there is a pair of distinct elements in `nums` whose sum equals `target`.\n",
    "\n",
    "Time complexity: $n\\cdot n\\cdot O(1)=O(n^2)$\n",
    "\n",
    "Space complexity: $O(1)$"
   ]
  },
  {
   "cell_type": "code",
   "execution_count": 1,
   "metadata": {},
   "outputs": [],
   "source": [
    "def two_sum(nums, target):\n",
    "    for i in range(len(nums)):  # n\n",
    "        for j in range(len(nums)):  # n\n",
    "            if nums[i] + nums[j] == target and i != j:  # O(1)\n",
    "                return True"
   ]
  },
  {
   "cell_type": "code",
   "execution_count": 2,
   "metadata": {},
   "outputs": [
    {
     "name": "stdout",
     "output_type": "stream",
     "text": [
      "True\n",
      "None\n"
     ]
    }
   ],
   "source": [
    "nums1 = [1, 2, 3, 4, 5]\n",
    "print(two_sum(nums1, 9))\n",
    "print(two_sum(nums1, 11))"
   ]
  },
  {
   "cell_type": "markdown",
   "metadata": {},
   "source": [
    "---"
   ]
  },
  {
   "cell_type": "markdown",
   "metadata": {},
   "source": [
    "**Algorithm 2.** `two_sum_2()` is a function that takes a list `nums` of $n$ numbers and a `target` value as input, and checks if there is a pair of distinct elements in `nums` whose sum equals `target`.\n",
    "\n",
    "Time complexity: $O()$\n",
    "\n",
    "Space complexity: $O()$"
   ]
  },
  {
   "cell_type": "code",
   "execution_count": 3,
   "metadata": {},
   "outputs": [],
   "source": [
    "def two_sum_2(nums, target):\n",
    "    L, R = 0, len(nums)-1\n",
    "    while L < R:\n",
    "        addition = nums[L] + nums[R]\n",
    "        if addition == target:\n",
    "            return True\n",
    "        if addition > target:\n",
    "            R -= 1\n",
    "        if addition < target:\n",
    "            L += 1"
   ]
  },
  {
   "cell_type": "code",
   "execution_count": 4,
   "metadata": {},
   "outputs": [
    {
     "name": "stdout",
     "output_type": "stream",
     "text": [
      "True\n",
      "None\n"
     ]
    }
   ],
   "source": [
    "nums2 = [1, 2, 3, 4, 5]\n",
    "print(two_sum_2(nums2, 9))\n",
    "print(two_sum_2(nums2, 11))"
   ]
  },
  {
   "cell_type": "markdown",
   "metadata": {},
   "source": [
    "---\n",
    "\n",
    "### Comparing Complexities + A Small Trick"
   ]
  },
  {
   "cell_type": "markdown",
   "metadata": {},
   "source": [
    "I like to set some imaginary limits on the number of operations that my program should run in a given time to see if my solution will be fast enough for the given problem. This is something competitive programmers normally do in coding contests to avoid getting the infamous 'Time Limit Exceeded' veredict from the server. If you use this sort of tricks when coding anything else, you can make some educated guesses on how slow or fast your programs will be. \n",
    "\n",
    "Most modern computers (if not all) can perform around $10^7$ operations in under a second. So let's define our limits to be $1\\leq N\\leq 10^7$."
   ]
  },
  {
   "cell_type": "code",
   "execution_count": 20,
   "metadata": {},
   "outputs": [
    {
     "name": "stdout",
     "output_type": "stream",
     "text": [
      "None\n",
      "It took 15.467911720275879 seconds to compute two_sum.\n",
      "None\n",
      "It took 0.0032062530517578125 seconds to compute two_sum_2.\n"
     ]
    }
   ],
   "source": [
    "import time\n",
    "import random\n",
    "# Let's create a list of 10^4 random numbers between 1 and 50000\n",
    "some_nums = random.sample(range(1, 50000), 10000)\n",
    "\n",
    "# two_sum()\n",
    "start_time = time.time()\n",
    "print(two_sum(some_nums, 100001))\n",
    "elapsed_time = time.time() - start_time\n",
    "print('It took', elapsed_time, 'seconds to compute two_sum.')\n",
    "\n",
    "# two_sum_2()\n",
    "start_time = time.time()\n",
    "print(two_sum_2(some_nums, 100001))\n",
    "elapsed_time = time.time() - start_time\n",
    "print('It took', elapsed_time, 'seconds to compute two_sum_2.')"
   ]
  },
  {
   "cell_type": "markdown",
   "metadata": {},
   "source": [
    "We have already seen that the asymptotic approximation of the cost functions for `two_sum()` and `two_sum_2()` are respectively:\n",
    "\n",
    "\\begin{equation}\n",
    "    N_1(n)=O(n^2),\n",
    "\\end{equation}\n",
    "\n",
    "\\begin{equation}\n",
    "    N_2(n)=O(n).\n",
    "\\end{equation}\n",
    "\n",
    "Since our list of random numbers contains $n=10^4$ elements, we have:\n",
    "\n",
    "\\begin{equation}\n",
    "    N_1(10^4)\\approx \\left(10^4\\right)^2=10^8,\n",
    "\\end{equation}\n",
    "\n",
    "\\begin{equation}\n",
    "    N_2(10^4)\\approx 10^4.\n",
    "\\end{equation}\n",
    "\n",
    "So we see that $N_1(10^4)$ is actually bigger than what we considered to be admissible for $N$!\n",
    "\n",
    "---"
   ]
  },
  {
   "cell_type": "markdown",
   "metadata": {},
   "source": [
    "# Examples:"
   ]
  },
  {
   "cell_type": "markdown",
   "metadata": {},
   "source": [
    "### 1. Calculating the maximum of a list"
   ]
  },
  {
   "cell_type": "markdown",
   "metadata": {},
   "source": [
    "**Algorithm 3.** `get_max()` is a function that takes a list `nums` of $n$ numbers and returns its maximum element.\n",
    "\n",
    "Time complexity: $O()$\n",
    "\n",
    "Space complexity: $O()$"
   ]
  },
  {
   "cell_type": "code",
   "execution_count": 69,
   "metadata": {},
   "outputs": [],
   "source": [
    "def get_max(nums):\n",
    "    if len(nums) != 0:\n",
    "        ans = nums[0]\n",
    "        for k in range(1, len(nums)):\n",
    "            if nums[k] > ans:\n",
    "                ans = nums[k]\n",
    "        return ans"
   ]
  },
  {
   "cell_type": "code",
   "execution_count": 70,
   "metadata": {},
   "outputs": [
    {
     "name": "stdout",
     "output_type": "stream",
     "text": [
      "10\n"
     ]
    }
   ],
   "source": [
    "nums3 = [1, 2, 3, 4, 5, 6, 10, 7, 8, 9]\n",
    "print(get_max(nums3))"
   ]
  },
  {
   "cell_type": "markdown",
   "metadata": {},
   "source": [
    "**Algorithm 4.** `get_max_2()` is a function that takes a list `nums` of $n$ numbers and returns a list containing all partial maxima.\n",
    "\n",
    "Time complexity: $O()$\n",
    "\n",
    "Space complexity: $O()$"
   ]
  },
  {
   "cell_type": "code",
   "execution_count": 77,
   "metadata": {},
   "outputs": [],
   "source": [
    "def get_max_2(nums):\n",
    "    maxima = nums\n",
    "    if len(nums) != 0:\n",
    "        temp_max = maxima[0]\n",
    "        for k in range(1, len(maxima)):\n",
    "            if maxima[k] < temp_max:\n",
    "                maxima[k] = temp_max\n",
    "            else:\n",
    "                temp_max = maxima[k]\n",
    "    return maxima"
   ]
  },
  {
   "cell_type": "code",
   "execution_count": 78,
   "metadata": {},
   "outputs": [
    {
     "data": {
      "text/plain": [
       "[1, 2, 3, 4, 5, 6, 10, 10, 10, 10]"
      ]
     },
     "execution_count": 78,
     "metadata": {},
     "output_type": "execute_result"
    }
   ],
   "source": [
    "nums3 = [1, 2, 3, 4, 5, 6, 10, 7, 8, 9]\n",
    "get_max_2(nums3)"
   ]
  },
  {
   "cell_type": "markdown",
   "metadata": {},
   "source": [
    "---\n",
    "\n",
    "### 2. Calculating Fibonacci numbers"
   ]
  },
  {
   "cell_type": "markdown",
   "metadata": {},
   "source": [
    "**Algorithm 5.** The Fibonacci sequence is the sequence $1, 1, 2, 3, 5, 8, 13, 21, ...$ where each element is the sum of the two previous elements. `fibonacci()`, `fibonacci_2()` and `fibonacci_3()` are functions which take a non-negative integer $n$ and return the $n$-th Fibonacci number.\n",
    "\n",
    "Fibonacci numbers are defined by the following recursion:\n",
    "\n",
    "\\begin{equation}\n",
    "    F_n=F_{n-1}+F_{n-2}, \\quad n\\geq 2\n",
    "\\end{equation}\n",
    "\n",
    "We will perform each function's complexity analysis separately."
   ]
  },
  {
   "cell_type": "code",
   "execution_count": 27,
   "metadata": {},
   "outputs": [],
   "source": [
    "def fibonacci(n):\n",
    "    if n == 0 or n == 1:\n",
    "        return 1\n",
    "    return fibonacci(n-1)+fibonacci(n-2)"
   ]
  },
  {
   "cell_type": "markdown",
   "metadata": {},
   "source": [
    "Time complexity: $O()$\n",
    "\n",
    "Space complexity: $O()$"
   ]
  },
  {
   "cell_type": "code",
   "execution_count": 46,
   "metadata": {},
   "outputs": [
    {
     "name": "stdout",
     "output_type": "stream",
     "text": [
      "14930352\n",
      "It took 5.209306478500366 seconds to compute fibonacci.\n"
     ]
    }
   ],
   "source": [
    "import time\n",
    "\n",
    "start_time = time.time()\n",
    "print(fibonacci(35))\n",
    "elapsed_time = time.time() - start_time\n",
    "\n",
    "print('It took', elapsed_time, 'seconds to compute fibonacci.')"
   ]
  },
  {
   "cell_type": "markdown",
   "metadata": {},
   "source": [
    "---"
   ]
  },
  {
   "cell_type": "code",
   "execution_count": 65,
   "metadata": {},
   "outputs": [],
   "source": [
    "def fibonacci_2(n):\n",
    "    fib = [1, 1]\n",
    "    for k in range(n+1):\n",
    "        if k > 1:\n",
    "            new_fib = fib[k-1] + fib[k-2]\n",
    "            fib.append(new_fib)\n",
    "    return fib[-1]"
   ]
  },
  {
   "cell_type": "markdown",
   "metadata": {},
   "source": [
    "Time complexity: $O()$\n",
    "\n",
    "Space complexity: $O()$"
   ]
  },
  {
   "cell_type": "code",
   "execution_count": 68,
   "metadata": {},
   "outputs": [
    {
     "name": "stdout",
     "output_type": "stream",
     "text": [
      "14930352\n",
      "It took 0.0013699531555175781 seconds to compute fibonacci_2.\n"
     ]
    }
   ],
   "source": [
    "import time\n",
    "\n",
    "start_time = time.time()\n",
    "print(fibonacci_2(35))\n",
    "elapsed_time = time.time() - start_time\n",
    "\n",
    "print('It took', elapsed_time, 'seconds to compute fibonacci_2.')"
   ]
  },
  {
   "cell_type": "markdown",
   "metadata": {},
   "source": [
    "---"
   ]
  },
  {
   "cell_type": "code",
   "execution_count": 73,
   "metadata": {},
   "outputs": [],
   "source": [
    "def fibonacci_3(n):\n",
    "    a = 1\n",
    "    b = 1\n",
    "    if n == 0:\n",
    "        return a\n",
    "    if n == 1:\n",
    "        return b\n",
    "    else:\n",
    "        for k in range(2, n+1):\n",
    "            c = a + b\n",
    "            a = b\n",
    "            b = c\n",
    "        return b"
   ]
  },
  {
   "cell_type": "markdown",
   "metadata": {},
   "source": [
    "Time complexity: $O()$\n",
    "\n",
    "Space complexity: $O()$"
   ]
  },
  {
   "cell_type": "code",
   "execution_count": 74,
   "metadata": {},
   "outputs": [
    {
     "name": "stdout",
     "output_type": "stream",
     "text": [
      "14930352\n",
      "It took 0.008686065673828125 seconds to compute fibonacci_3.\n"
     ]
    }
   ],
   "source": [
    "import time\n",
    "\n",
    "start_time = time.time()\n",
    "print(fibonacci_3(35))\n",
    "elapsed_time = time.time() - start_time\n",
    "\n",
    "print('It took', elapsed_time, 'seconds to compute fibonacci_3.')"
   ]
  },
  {
   "cell_type": "markdown",
   "metadata": {},
   "source": [
    "---\n",
    "\n",
    "### 3. Searching the elements from a list in another list"
   ]
  },
  {
   "cell_type": "markdown",
   "metadata": {},
   "source": [
    "**Algorithm 6.** `find_them_all()` is a function that takes two lists `list1` and `list2`, and returns a list of pairs consisting of: \n",
    "- the elements of `list1` which appear in `list2`\n",
    "- the corresponding indices of such elements in `list2`\n",
    "\n",
    "Time complexity: $O()$\n",
    "\n",
    "Space complexity: $O()$"
   ]
  },
  {
   "cell_type": "code",
   "execution_count": 86,
   "metadata": {},
   "outputs": [],
   "source": [
    "def find_them_all(list1, list2):\n",
    "    ans = []\n",
    "    for i in range(len(list1)):\n",
    "        current = list1[i]\n",
    "        for j in range(len(list2)):\n",
    "            if current == list2[j]:\n",
    "                ans.append([current, j])\n",
    "                break\n",
    "    return ans"
   ]
  },
  {
   "cell_type": "code",
   "execution_count": 87,
   "metadata": {},
   "outputs": [
    {
     "data": {
      "text/plain": [
       "[[1, 5], [2, 4], [3, 6], [4, 3]]"
      ]
     },
     "execution_count": 87,
     "metadata": {},
     "output_type": "execute_result"
    }
   ],
   "source": [
    "list1 = [1, 2, 3, 4, 5, 6]\n",
    "list2 = [7, 8, 9, 4, 2, 1, 3]\n",
    "\n",
    "find_them_all(list1, list2)"
   ]
  },
  {
   "cell_type": "markdown",
   "metadata": {},
   "source": [
    "---\n",
    "\n",
    "### 4. Searching an element in a sorted list"
   ]
  },
  {
   "cell_type": "markdown",
   "metadata": {},
   "source": [
    "**Algorithm 7.** `binary_search()` is a function that takes a **sorted** list `nums` of $n$ numbers and searches for a given `key` in it.\n",
    "\n",
    "\n",
    "Time complexity: $O()$\n",
    "\n",
    "Space complexity: $O()$"
   ]
  },
  {
   "cell_type": "code",
   "execution_count": 89,
   "metadata": {},
   "outputs": [],
   "source": [
    "def binary_search(nums, key):\n",
    "    lo = 0\n",
    "    hi = len(nums)-1\n",
    "    while(lo <= hi):\n",
    "        mid = lo+(hi-lo)//2\n",
    "        if nums[mid] == key:\n",
    "            return True\n",
    "        elif nums[mid] < key:\n",
    "            lo = mid+1\n",
    "        else:\n",
    "            hi = mid-1\n",
    "    return False"
   ]
  },
  {
   "cell_type": "code",
   "execution_count": 90,
   "metadata": {},
   "outputs": [
    {
     "name": "stdout",
     "output_type": "stream",
     "text": [
      "True\n",
      "False\n"
     ]
    }
   ],
   "source": [
    "a = [-3, 1, 2, 14, 32, 66, 78, 145, 200]\n",
    "\n",
    "print(binary_search(a, 66))\n",
    "print(binary_search(a, 1000))"
   ]
  },
  {
   "cell_type": "markdown",
   "metadata": {},
   "source": [
    "**Algorithm 8.** `binary_search()` is a function that takes a **sorted** list `nums` of $n$ numbers and searches for a given `key`, starting from position `lo` and ending at position `hi`.\n",
    "\n",
    "\n",
    "Time complexity: $O()$\n",
    "\n",
    "Space complexity: $O()$"
   ]
  },
  {
   "cell_type": "code",
   "execution_count": 91,
   "metadata": {},
   "outputs": [],
   "source": [
    "def recursive_binary_search(nums, key, lo, hi):\n",
    "    mid = lo+(hi-lo)//2\n",
    "    if lo <= hi:\n",
    "        if nums[mid] == key:\n",
    "            return True\n",
    "        elif nums[mid] < key:\n",
    "            return recursive_binary_search(nums, key, mid+1, hi)\n",
    "        else:\n",
    "            return recursive_binary_search(nums, key, lo, mid-1)    \n",
    "    else:\n",
    "        return False"
   ]
  },
  {
   "cell_type": "code",
   "execution_count": 93,
   "metadata": {},
   "outputs": [
    {
     "name": "stdout",
     "output_type": "stream",
     "text": [
      "True\n",
      "False\n"
     ]
    }
   ],
   "source": [
    "a = [-3, 1, 2, 14, 32, 66, 78, 145, 200]\n",
    "\n",
    "print(recursive_binary_search(a, 66, 0, len(a)))\n",
    "print(recursive_binary_search(a, -66, 0, len(a)))"
   ]
  }
 ],
 "metadata": {
  "kernelspec": {
   "display_name": "Python 3",
   "language": "python",
   "name": "python3"
  },
  "language_info": {
   "codemirror_mode": {
    "name": "ipython",
    "version": 3
   },
   "file_extension": ".py",
   "mimetype": "text/x-python",
   "name": "python",
   "nbconvert_exporter": "python",
   "pygments_lexer": "ipython3",
   "version": "3.7.1"
  }
 },
 "nbformat": 4,
 "nbformat_minor": 2
}
